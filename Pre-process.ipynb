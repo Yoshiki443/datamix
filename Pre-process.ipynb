{
 "cells": [
  {
   "cell_type": "markdown",
   "metadata": {},
   "source": [
    "## データの前処理"
   ]
  },
  {
   "cell_type": "code",
   "execution_count": 1,
   "metadata": {},
   "outputs": [],
   "source": [
    "import numpy as np\n",
    "import pandas as pd\n",
    "np.random.seed(443)\n",
    "from datetime import datetime as dt"
   ]
  },
  {
   "cell_type": "code",
   "execution_count": 2,
   "metadata": {},
   "outputs": [],
   "source": [
    "msm2014 = pd.read_csv(\"MSM/RJAA_2014.csv\")\n",
    "msm2015 = pd.read_csv(\"MSM/RJAA_2015.csv\")\n",
    "msm2016 = pd.read_csv(\"MSM/RJAA_2016.csv\")\n",
    "msm2017 = pd.read_csv(\"MSM/RJAA_2017.csv\")\n",
    "metar2014 = pd.read_csv(\"METAR/RJAA_2014_edit.csv\")\n",
    "metar2015 = pd.read_csv(\"METAR/RJAA_2015_edit.csv\")\n",
    "metar2016 = pd.read_csv(\"METAR/RJAA_2016_edit.csv\")\n",
    "metar2017 = pd.read_csv(\"METAR/RJAA_2017_edit.csv\")"
   ]
  },
  {
   "cell_type": "code",
   "execution_count": 3,
   "metadata": {},
   "outputs": [],
   "source": [
    "# 複数年の結合\n",
    "MSM = pd.concat([msm2014,msm2015,msm2016,msm2017]).reset_index(drop=True)\n",
    "METAR = pd.concat([metar2014,metar2015,metar2016,metar2017]).reset_index(drop=True)\n",
    "METAR.WX.fillna(\"NSW\", inplace=True)"
   ]
  },
  {
   "cell_type": "code",
   "execution_count": 4,
   "metadata": {},
   "outputs": [
    {
     "data": {
      "text/plain": [
       "Series([], dtype: int64)"
      ]
     },
     "execution_count": 4,
     "metadata": {},
     "output_type": "execute_result"
    }
   ],
   "source": [
    "# 欠損値を確認\n",
    "chk = MSM.apply(pd.isnull).apply(sum, axis=0)\n",
    "chk[ chk[:] != 0 ]"
   ]
  },
  {
   "cell_type": "code",
   "execution_count": 5,
   "metadata": {},
   "outputs": [
    {
     "data": {
      "text/plain": [
       "Series([], dtype: int64)"
      ]
     },
     "execution_count": 5,
     "metadata": {},
     "output_type": "execute_result"
    }
   ],
   "source": [
    "# 欠損値を確認\n",
    "chk = METAR.apply(pd.isnull).apply(sum, axis=0)\n",
    "chk[ chk[:] != 0 ]"
   ]
  },
  {
   "cell_type": "markdown",
   "metadata": {},
   "source": [
    "### MSM気象要素の生成\n",
    "相対湿度から露点温度、および湿数を計算"
   ]
  },
  {
   "cell_type": "code",
   "execution_count": 6,
   "metadata": {},
   "outputs": [],
   "source": [
    "## 気温と湿度から露点温度を計算\n",
    "def Dewpoint_Temperature(t, rh):\n",
    "    # エラー処理\n",
    "    rh *= 1.0\n",
    "    rh[ rh < 0.1 ] = 0.1\n",
    "    # 露点温度を計算\n",
    "    return t - np.log(rh/100) / (0.00047 * t - 0.073)\n",
    "\n",
    "## 気温と湿度から湿数を計算\n",
    "def Dewpoint_Depression(t, rh):\n",
    "    td = Dewpoint_Temperature(t, rh)\n",
    "    return T_minus_Td(t,td)\n",
    "\n",
    "## 湿数 = 気温・露点温度差\n",
    "def T_minus_Td(t, td):\n",
    "    return t - td"
   ]
  },
  {
   "cell_type": "code",
   "execution_count": 7,
   "metadata": {},
   "outputs": [],
   "source": [
    "## 露点温度、湿数\n",
    "MSM[\"TD_SFC\"] = Dewpoint_Temperature( MSM.TMP_SFC, MSM.RH_SFC )\n",
    "MSM[\"TmTD_SFC\"] = T_minus_Td( MSM.TMP_SFC, MSM.TD_SFC )\n",
    "#MSM[\"TmTD_1000\"] = Dewpoint_Depression( MSM.TMP_1000, MSM.RH_1000 )"
   ]
  },
  {
   "cell_type": "markdown",
   "metadata": {},
   "source": [
    "地上風は風向・風速にする"
   ]
  },
  {
   "cell_type": "code",
   "execution_count": 8,
   "metadata": {},
   "outputs": [],
   "source": [
    "## UV成分から風向風速を計算\n",
    "def UV_to_SpdDir(u,v):\n",
    "    wspd = np.sqrt( u**2 + v**2 )\n",
    "    wdir = np.rad2deg( np.arctan2(u,v) )+180\n",
    "    \n",
    "    # 風向が0になった場合、360にする\n",
    "    # 風速が0になった場合、風向は0にしておく\n",
    "    wdir[ wdir==0 ] = 360.0\n",
    "    wdir[ wspd==0 ] = 0.0\n",
    "    return wspd, wdir\n",
    "\n",
    "## 360度方位を8方位に変換\n",
    "def Deg_to_Dir8(deg):\n",
    "    # 風向0はVRBにする\n",
    "    deg[ deg==0 ] = 720\n",
    "    dirname = ['N','NE','E','SE','S','SW','W','NW','VRB']\n",
    "    \n",
    "    deg = deg + 22.5\n",
    "    deg[ deg>360 ] -= 360\n",
    "    deg = (deg/45).astype(np.int64)\n",
    "    dir8 = deg.apply( lambda x: dirname[x] )\n",
    "    return dir8\n",
    "\n",
    "## 360度方位を16方位に変換\n",
    "def Deg_to_Dir16(deg):\n",
    "    # 風向0はVRBにする\n",
    "    deg[ deg==0 ] = 720\n",
    "    dirname = ['N','NNE','NE','ENE','E','ESE','SE','SSE','S','SSW','SW','WSW','W','WNW','NW','NNW','VRB']\n",
    "    \n",
    "    deg = deg + 11.25\n",
    "    deg[ deg>360 ] -= 360\n",
    "    deg = (deg/22.5).astype(np.int64)\n",
    "    dir16 = deg.apply( lambda x: dirname[x] )\n",
    "    return dir16"
   ]
  },
  {
   "cell_type": "code",
   "execution_count": 9,
   "metadata": {},
   "outputs": [],
   "source": [
    "## 風向・風速\n",
    "wspd, wdir = UV_to_SpdDir( MSM.UGRD_SFC, MSM.VGRD_SFC )\n",
    "MSM[\"WSPD_SFC\"] = wspd\n",
    "#MSM[\"WDIR_SFC\"] = wdir\n",
    "MSM[\"WDIR_SFC\"] = Deg_to_Dir8(wdir)\n",
    "#MSM[\"WDIR_SFC\"] = Deg_to_Dir16(wdir)"
   ]
  },
  {
   "cell_type": "code",
   "execution_count": 10,
   "metadata": {},
   "outputs": [],
   "source": [
    "## 下層の気圧面の風速\n",
    "MSM[\"WSPD_1000\"] = np.sqrt( MSM.UGRD_1000**2 + MSM.VGRD_1000**2 )\n",
    "MSM[\"WSPD_975\"] = np.sqrt( MSM.UGRD_975**2 + MSM.VGRD_975**2 )\n",
    "MSM[\"WSPD_950\"] = np.sqrt( MSM.UGRD_950**2 + MSM.VGRD_950**2 )"
   ]
  },
  {
   "cell_type": "markdown",
   "metadata": {},
   "source": [
    "霧の発生しやすい時間帯があると考えられるので、時間帯を特徴量に加える  \n",
    "また霧の発生しやすい季節もあると考えられるので、季節を特徴量に加える"
   ]
  },
  {
   "cell_type": "code",
   "execution_count": 11,
   "metadata": {},
   "outputs": [],
   "source": [
    "## 日時を処理する関数\n",
    "def DateTime_Hour(x):\n",
    "    date_time = dt.strptime(x, \"%Y/%m/%d %H:%M:%S\")\n",
    "    return date_time.hour\n",
    "def DateTime_Month(x):\n",
    "    date_time = dt.strptime(x, \"%Y/%m/%d %H:%M:%S\")\n",
    "    return date_time.month\n",
    "def Time_Range(hour):\n",
    "    trname = [\"0-2\",\"3-5\",\"6-8\",\"9-11\",\"12-14\",\"15-17\",\"18-20\",\"21-23\"]\n",
    "    tr = (hour/3).astype(np.int64).apply( lambda x: trname[x] )\n",
    "    return tr"
   ]
  },
  {
   "cell_type": "code",
   "execution_count": 12,
   "metadata": {},
   "outputs": [],
   "source": [
    "## 季節（ここでは月）と時間帯（24時間を8つに分割）\n",
    "MSM[\"MONTH\"] = MSM.DateTime.apply(DateTime_Month)\n",
    "MSM[\"TimeRange\"] = Time_Range( MSM.DateTime.apply(DateTime_Hour) )"
   ]
  },
  {
   "cell_type": "markdown",
   "metadata": {},
   "source": [
    "気圧と気温と露点温度は、1時間前からの変化量を特徴量に加える"
   ]
  },
  {
   "cell_type": "code",
   "execution_count": 13,
   "metadata": {},
   "outputs": [],
   "source": [
    "# 気圧と気温と露点温度の、1時間前からの変化量\n",
    "MSM[\"D_PRES_SFC\"] = MSM.PRES_SFC - MSM.PRES_SFC.shift(1)\n",
    "MSM[\"D_TMP_SFC\"] = MSM.TMP_SFC - MSM.TMP_SFC.shift(1)\n",
    "MSM[\"D_TD_SFC\"] = MSM.TD_SFC - MSM.TD_SFC.shift(1)"
   ]
  },
  {
   "cell_type": "markdown",
   "metadata": {},
   "source": [
    "最下層の風の鉛直シアと気温の鉛直プロファイルを特徴量に加える"
   ]
  },
  {
   "cell_type": "code",
   "execution_count": 14,
   "metadata": {},
   "outputs": [],
   "source": [
    "## 2つの気圧面の間の、風の鉛直シア\n",
    "def Vertical_Wind_Shear(u1, v1, h1, u2, v2, h2):\n",
    "    # 2気圧面の厚さ：m → ft\n",
    "    depth = M_to_FT( h2 - h1 )\n",
    "    \n",
    "    # 風のベクトル差：m/s → kt\n",
    "    d_u = MPS_to_KT( u2 - u1 )\n",
    "    d_v = MPS_to_KT( v2 - v1 )\n",
    "    \n",
    "    # 風の鉛直シア：kt per 1000ft\n",
    "    vws = np.sqrt( d_u**2 + d_v**2 ) / depth * 1000\n",
    "    return vws\n",
    "\n",
    "## m/sをktに変換\n",
    "def MPS_to_KT(x):\n",
    "    return x/0.514444\n",
    "\n",
    "## mをftに変換\n",
    "def M_to_FT(x):\n",
    "    return x/0.3048\n",
    "\n",
    "## 最下層の安定度　→　2つの気圧面の間の気温差（気温減率 × -1 = 気温増加量）\n",
    "def Atmospheric_Stability(t1, h1, t2, h2):\n",
    "    # 気温増加量：C per 100m\n",
    "    return ( t2 - t1 ) / ( h2 - h1 ) * 100"
   ]
  },
  {
   "cell_type": "code",
   "execution_count": 15,
   "metadata": {},
   "outputs": [],
   "source": [
    "## 最下層の風の鉛直シア (kt / 1000ft)\n",
    "MSM[\"LL_VWS1\"] = Vertical_Wind_Shear( MSM.UGRD_1000, MSM.VGRD_1000, MSM.HGT_1000, MSM.UGRD_975, MSM.VGRD_975, MSM.HGT_975 )\n",
    "MSM[\"LL_VWS2\"] = Vertical_Wind_Shear( MSM.UGRD_975, MSM.VGRD_975, MSM.HGT_975, MSM.UGRD_950, MSM.VGRD_950, MSM.HGT_950 )\n",
    "\n",
    "# 当初は地上気圧が1000hPa未満の場合、975-950hPaの鉛直シアを計算する予定だったが、値の連続性が悪くなりそうなのでやめた\n",
    "# vws1 = Vertical_Wind_Shear( MSM.UGRD_1000, MSM.VGRD_1000, MSM.HGT_1000, MSM.UGRD_975, MSM.VGRD_975, MSM.HGT_975 )\n",
    "# vws2 = Vertical_Wind_Shear( MSM.UGRD_975, MSM.VGRD_975, MSM.HGT_975, MSM.UGRD_950, MSM.VGRD_950, MSM.HGT_950 )\n",
    "# MSM[\"LL_VWS\"] = vws1\n",
    "# MSM[\"LL_VWS\"][ MSM[\"HGT_1000\"] < 0 ] = vws2[ MSM[\"HGT_1000\"] < 0 ]\n",
    "\n",
    "## 大気の安定度 (C / 100m)\n",
    "MSM[\"LL_STBL1\"] = Atmospheric_Stability( MSM.TMP_1000, MSM.HGT_1000, MSM.TMP_975, MSM.HGT_975 )\n",
    "MSM[\"LL_STBL2\"] = Atmospheric_Stability( MSM.TMP_975, MSM.HGT_975, MSM.TMP_950, MSM.HGT_950 )\n"
   ]
  },
  {
   "cell_type": "markdown",
   "metadata": {},
   "source": [
    "前線霧を想定し、下層のある気圧面と最下層の気圧面の気温差と降水量の積を特徴量に加える"
   ]
  },
  {
   "cell_type": "code",
   "execution_count": 16,
   "metadata": {},
   "outputs": [],
   "source": [
    "## 2つの気圧面の間の気温差と、降水量の積\n",
    "#  前線面の上から相対的に暖かい雨が降る状況を想定：前線霧\n",
    "#  気温増加量と降水量の積がマイナスにならないようにする\n",
    "def Warmer_Rain(t1, h1, t2, h2, prcp):\n",
    "    C = Atmospheric_Stability(t1, h1, t2, h2)\n",
    "    C[ C<0 ] = 0.0\n",
    "\n",
    "    ## この処理は採用しない\n",
    "    # C は100mあたりの気温増加量\n",
    "    # 乾燥断熱減率は1.0C per 100mなので、1.0を足せばCは必ず正の値になるはず\n",
    "    # もし1.0を足しても負の場合は、エラー処理としてゼロにする\n",
    "    #C = C + 1.0\n",
    "    #C[ C<0 ] = 0.0\n",
    "    \n",
    "    return C * prcp\n",
    "\n",
    "## This is old one.\n",
    "#def Warmer_Rain(t1, t2, prcp):\n",
    "#    return ( t2 - t1 ) * prcp"
   ]
  },
  {
   "cell_type": "code",
   "execution_count": 17,
   "metadata": {},
   "outputs": [],
   "source": [
    "## 大気の安定度と降水量の積（前線霧のための特徴量）\n",
    "MSM[\"WARMER_RA\"] = Warmer_Rain( MSM.TMP_1000, MSM.HGT_1000, MSM.TMP_950, MSM.HGT_950, MSM.APCP_SFC )\n",
    "\n",
    "# 評価用\n",
    "# MSM[\"WARMER_RA1\"] = Warmer_Rain( MSM.TMP_1000, MSM.HGT_1000, MSM.TMP_850, MSM.HGT_850, MSM.APCP_SFC )\n",
    "# MSM[\"WARMER_RA2\"] = Warmer_Rain( MSM.TMP_1000, MSM.HGT_1000, MSM.TMP_925, MSM.HGT_925, MSM.APCP_SFC )\n",
    "# MSM[\"WARMER_RA3\"] = Warmer_Rain( MSM.TMP_1000, MSM.HGT_1000, MSM.TMP_950, MSM.HGT_950, MSM.APCP_SFC )"
   ]
  },
  {
   "cell_type": "markdown",
   "metadata": {},
   "source": [
    "### METARの整形  \n",
    "1時間前の視程を特徴量として使えるようにする"
   ]
  },
  {
   "cell_type": "code",
   "execution_count": 18,
   "metadata": {},
   "outputs": [],
   "source": [
    "METAR[\"VIS_P1HR\"] = METAR.VIS.shift(1)"
   ]
  },
  {
   "cell_type": "markdown",
   "metadata": {},
   "source": [
    "視程に基づいて、霧の有無を判別  \n",
    "また視程の値に基づいて、カテゴリー分け"
   ]
  },
  {
   "cell_type": "code",
   "execution_count": 19,
   "metadata": {},
   "outputs": [],
   "source": [
    "## 霧の有無、通常は1000m未満が霧だが任意の値を指定可能\n",
    "def FG_or_not(vis, border=1000):\n",
    "    fg = np.zeros( vis.shape[0] ).astype(np.int64)\n",
    "    fg[ vis < border ] = 1\n",
    "    return fg\n",
    "\n",
    "## 視程の値の範囲でカテゴリー分け\n",
    "# CAT 0:0-400m, 1:400-800m, 2:800-1600m, 3:1600-3200m, 4:3200-5000m, 5:5000m以上\n",
    "def VIS_Category(vis):\n",
    "    cat = np.full( vis.shape[0], 0 )\n",
    "    cat[ vis < 5000 ] = 1\n",
    "    cat[ vis < 3200 ] = 2\n",
    "    cat[ vis < 1600 ] = 3\n",
    "    cat[ vis < 800 ] = 4\n",
    "#     cat[ vis < 400 ] = 5\n",
    "    return cat"
   ]
  },
  {
   "cell_type": "code",
   "execution_count": 20,
   "metadata": {},
   "outputs": [],
   "source": [
    "## 霧の閾値を1600mとして、霧の有無を判定\n",
    "METAR[\"FG\"] = FG_or_not( METAR.VIS, border=1600 )\n",
    "## 視程値でカテゴリー分け\n",
    "# CAT 4:0-800m, 3:800-1600m, 2:1600-3200m, 1:3200-5000m, 0:5000m以上\n",
    "METAR[\"VIS_CAT\"] = VIS_Category( METAR.VIS )"
   ]
  },
  {
   "cell_type": "code",
   "execution_count": 21,
   "metadata": {},
   "outputs": [],
   "source": [
    "# 雪が降っている時のデータは使わない\n",
    "METAR.drop( METAR.index[ METAR.WX.str.contains('SN') ], inplace=True )"
   ]
  },
  {
   "cell_type": "markdown",
   "metadata": {},
   "source": [
    "### METARとMSMの結合"
   ]
  },
  {
   "cell_type": "code",
   "execution_count": 22,
   "metadata": {},
   "outputs": [],
   "source": [
    "DATA = pd.merge(METAR, MSM, on=\"DateTime\", how=\"inner\")\n",
    "DATA.dropna(inplace=True)\n",
    "DATA.reset_index(drop=True, inplace=True)"
   ]
  },
  {
   "cell_type": "code",
   "execution_count": 23,
   "metadata": {},
   "outputs": [
    {
     "data": {
      "text/plain": [
       "Series([], dtype: int64)"
      ]
     },
     "execution_count": 23,
     "metadata": {},
     "output_type": "execute_result"
    }
   ],
   "source": [
    "# 欠損値を確認\n",
    "chk = DATA.apply(pd.isnull).apply(sum, axis=0)\n",
    "chk[ chk[:] != 0 ]"
   ]
  },
  {
   "cell_type": "code",
   "execution_count": 24,
   "metadata": {},
   "outputs": [],
   "source": [
    "# 学習用データ(2014-2016)と予測実験用データ(2017)に分割\n",
    "border = DATA.index[ DATA.DateTime.str.startswith('2017') ][0]\n",
    "DATA_TRAIN = DATA.iloc[:border]\n",
    "DATA_TEST = DATA.iloc[border:].reset_index(drop=True)"
   ]
  },
  {
   "cell_type": "code",
   "execution_count": 25,
   "metadata": {},
   "outputs": [],
   "source": [
    "# ファイルに書き出す\n",
    "DATA_TRAIN.to_csv(\"train_data.csv\", index=False)\n",
    "DATA_TEST.to_csv(\"test_data.csv\", index=False)\n",
    "# DATA.to_csv(\"all_data.csv\", index=False)"
   ]
  },
  {
   "cell_type": "code",
   "execution_count": null,
   "metadata": {},
   "outputs": [],
   "source": []
  }
 ],
 "metadata": {
  "kernelspec": {
   "display_name": "Python 3",
   "language": "python",
   "name": "python3"
  },
  "language_info": {
   "codemirror_mode": {
    "name": "ipython",
    "version": 3
   },
   "file_extension": ".py",
   "mimetype": "text/x-python",
   "name": "python",
   "nbconvert_exporter": "python",
   "pygments_lexer": "ipython3",
   "version": "3.6.4"
  }
 },
 "nbformat": 4,
 "nbformat_minor": 2
}
