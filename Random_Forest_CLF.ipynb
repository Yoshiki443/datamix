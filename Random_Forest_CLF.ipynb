{
 "cells": [
  {
   "cell_type": "markdown",
   "metadata": {},
   "source": [
    "# ランダムフォレスト\n",
    "### FGの有無を予測する（閾値1600m）"
   ]
  },
  {
   "cell_type": "markdown",
   "metadata": {},
   "source": [
    "#### データの前処理"
   ]
  },
  {
   "cell_type": "code",
   "execution_count": 1,
   "metadata": {},
   "outputs": [],
   "source": [
    "import numpy as np\n",
    "import pandas as pd\n",
    "np.random.seed(443)\n",
    "\n",
    "from imblearn.over_sampling import SMOTE\n",
    "from imblearn.under_sampling import RandomUnderSampler"
   ]
  },
  {
   "cell_type": "code",
   "execution_count": 2,
   "metadata": {},
   "outputs": [],
   "source": [
    "## 学習用データ\n",
    "DATA = pd.read_csv(\"train_data.csv\")\n",
    "\n",
    "# 使うデータを限定\n",
    "use_valiable = [\"DateTime\",\"VIS\",\"VIS_CAT\",\"FG\",\"PRCP_P24HR\",\\\n",
    "                \"RH_SFC\",\"TMP_SFC\",\"TD_SFC\",\"PRES_SFC\",\"LCDC_SFC\",\"MCDC_SFC\",\"HCDC_SFC\",\\\n",
    "                \"WSPD_SFC\",\"WDIR_SFC\",\"APCP_SFC\",\"TimeRange\",\"MONTH\",\\\n",
    "#                 \"D_PRES_SFC\",\"D_TMP_SFC\",\"D_TD_SFC\",\\\n",
    "                \"LL_VWS1\",\"LL_VWS2\",\"LL_STBL1\",\"LL_STBL2\",\"WARMER_RA\",\\\n",
    "                \"RH_1000\",\"VVEL_1000\",\"WSPD_1000\",\"RH_975\",\"VVEL_975\",\"WSPD_975\",\\\n",
    "                \"RH_950\",\"VVEL_950\",\"WSPD_950\",\"RH_850\",\"RH_700\",\"RH_500\",\"RH_300\"]\n",
    "DATA = DATA[use_valiable]\n",
    "\n",
    "# カテゴリー変数はダミー化\n",
    "cat_val = ['WDIR_SFC', 'TimeRange', 'MONTH']\n",
    "DATA = pd.get_dummies(data=DATA, columns=cat_val)\n",
    "\n",
    "# 雨が降った後の夜間に霧が出やすいことを表現できるかもしれない\n",
    "DATA[\"Time_12-14_RAp24hr\"] = DATA[\"PRCP_P24HR\"] * DATA[\"TimeRange_12-14\"]\n",
    "DATA[\"Time_15-17_RAp24hr\"] = DATA[\"PRCP_P24HR\"] * DATA[\"TimeRange_15-17\"]\n",
    "DATA[\"Time_18-20_RAp24hr\"] = DATA[\"PRCP_P24HR\"] * DATA[\"TimeRange_18-20\"]\n",
    "DATA[\"Time_21-23_RAp24hr\"] = DATA[\"PRCP_P24HR\"] * DATA[\"TimeRange_21-23\"]\n",
    "\n",
    "# 不均衡データ対応\n",
    "# VIS 5000m以上を減らし、VIS 5000m未満を増やす\n",
    "def Sampling_Flag(data):\n",
    "    flag = np.full( data.shape[0], 0 )\n",
    "    flag[ data > 0 ] = 1\n",
    "    return flag\n",
    "\n",
    "DATA[\"FLAG\"] = Sampling_Flag( DATA.VIS_CAT )\n",
    "\n",
    "target = 'FLAG'\n",
    "exclude = ['FLAG','DateTime']\n",
    "features = [val for val in DATA.columns if val not in exclude]\n",
    "\n",
    "y = np.array( DATA[target] )\n",
    "X = np.array( DATA[features] )\n",
    "\n",
    "# count = int( y[y==0].shape[0]/2 )\n",
    "# rus = RandomUnderSampler(ratio={0:count}, random_state=443)\n",
    "# X_rus, y_rus = rus.fit_sample(X,y)\n",
    "\n",
    "# count = y_rus[y_rus==0].shape[0]\n",
    "# sm = SMOTE(ratio={1:count}, random_state=443)\n",
    "# X_sm, y_sm = sm.fit_sample(X_rus,y_rus)\n",
    "\n",
    "# count = y[y==0].shape[0]\n",
    "# sm = SMOTE(ratio={1:count}, random_state=443)\n",
    "# X_sm, y_sm = sm.fit_sample(X,y)\n",
    "\n",
    "# DATA = pd.DataFrame( X_sm, columns=features )\n",
    "DATA = pd.DataFrame( X, columns=features )\n",
    "DATA.FG = DATA.FG.astype(np.int64)\n",
    "DATA.VIS_CAT = DATA.VIS_CAT.astype(np.int64)"
   ]
  },
  {
   "cell_type": "code",
   "execution_count": 3,
   "metadata": {},
   "outputs": [],
   "source": [
    "## 予測テスト用データ\n",
    "TEST = pd.read_csv(\"test_data.csv\")\n",
    "TEST = TEST[use_valiable].drop(\"DateTime\", axis=1)\n",
    "TEST = pd.get_dummies(data=TEST, columns=cat_val)\n",
    "\n",
    "TEST[\"Time_12-14_RAp24hr\"] = TEST[\"PRCP_P24HR\"] * TEST[\"TimeRange_12-14\"]\n",
    "TEST[\"Time_15-17_RAp24hr\"] = TEST[\"PRCP_P24HR\"] * TEST[\"TimeRange_15-17\"]\n",
    "TEST[\"Time_18-20_RAp24hr\"] = TEST[\"PRCP_P24HR\"] * TEST[\"TimeRange_18-20\"]\n",
    "TEST[\"Time_21-23_RAp24hr\"] = TEST[\"PRCP_P24HR\"] * TEST[\"TimeRange_21-23\"]"
   ]
  },
  {
   "cell_type": "markdown",
   "metadata": {},
   "source": [
    "### ランダムフォレスト"
   ]
  },
  {
   "cell_type": "code",
   "execution_count": 4,
   "metadata": {},
   "outputs": [],
   "source": [
    "from sklearn.ensemble import RandomForestClassifier\n",
    "from sklearn.model_selection import train_test_split, GridSearchCV\n",
    "from sklearn.metrics import confusion_matrix, classification_report\n",
    "from sklearn.metrics import roc_auc_score\n",
    "from sklearn.decomposition import PCA\n",
    "from sklearn.preprocessing import MinMaxScaler\n",
    "from scipy.stats import spearmanr\n",
    "import re\n",
    "\n",
    "% matplotlib inline\n",
    "import matplotlib\n",
    "import matplotlib.pyplot as plt\n",
    "from pylab import rcParams"
   ]
  },
  {
   "cell_type": "code",
   "execution_count": 5,
   "metadata": {},
   "outputs": [],
   "source": [
    "target = 'FG'\n",
    "exclude = ['VIS','VIS_CAT','FG','PRCP_P24HR']\n",
    "features = [val for val in DATA.columns if val not in exclude]\n",
    "\n",
    "# 特徴量を割り算で作成\n",
    "cutoff_r = 0.5\n",
    "new_added_col = []\n",
    "for i in range(0, len(features)-1):\n",
    "    for j in range(i+1, len(features)):\n",
    "        first_col_name = features[i]\n",
    "        second_col_name = features[j]\n",
    "        r = spearmanr(DATA[first_col_name], DATA[second_col_name]).correlation        \n",
    "        if abs(r) > cutoff_r:\n",
    "            new_colname = first_col_name + \"_div_\" + second_col_name\n",
    "            DATA[new_colname] = DATA[first_col_name] / (DATA[second_col_name] + 0.001)\n",
    "            new_added_col.append(new_colname)\n",
    "features = features + new_added_col\n",
    "\n",
    "# 増えた特徴量をテストデータでも作成\n",
    "for feature in features:\n",
    "    if re.search('_div_', feature):\n",
    "        feature1, feature2 = feature.split(\"_div_\")\n",
    "        TEST[feature] = TEST[feature1] / (TEST[feature2] + 0.001)\n",
    "\n",
    "X = np.array( DATA[features] )\n",
    "Y = np.array( DATA[target] )\n",
    "X_train, X_dev, Y_train, Y_dev = train_test_split(X, Y, test_size=0.3, random_state=443)\n",
    "\n",
    "X_test = np.array( TEST[features] )\n",
    "Y_test = np.array( TEST[target] )"
   ]
  },
  {
   "cell_type": "code",
   "execution_count": 10,
   "metadata": {},
   "outputs": [],
   "source": [
    "# スレットスコアが最も高くなる閾値を求める\n",
    "def Best_TS_Cutoff(y_test, y_proba):\n",
    "    accuracy = []\n",
    "    for i in range(1,100):\n",
    "        var = i / 100\n",
    "        ypred_flag = (y_proba[:,1] > var).astype(np.int)\n",
    "        m = confusion_matrix(y_true=y_test, y_pred=ypred_flag)\n",
    "        ts = m[1,1] / ( m[0,1] + m[1,0] + m[1,1] )\n",
    "        accuracy.append( ts )\n",
    "    return (np.argsort(accuracy)[-1] + 1) / 100\n",
    "\n",
    "# Equitable Threat Scoreを使う\n",
    "def Best_ETS_Cutoff(y_test, y_proba):\n",
    "    Pc = len(y_test[ y_test == 1 ]) / len(y_test) # 気候学的出現率\n",
    "    accuracy = []\n",
    "    for i in range(1,100):\n",
    "        var = i / 100\n",
    "        ypred_flag = (y_proba[:,1] > var).astype(np.int)\n",
    "        m = confusion_matrix(y_true=y_test, y_pred=ypred_flag)\n",
    "        Sf = Pc * ( m[1,1] + m[0,1] ) # ランダム的中率\n",
    "        ets = ( m[1,1] - Sf ) / ( m[0,1] + m[1,0] + m[1,1] - Sf )\n",
    "        accuracy.append( ets )\n",
    "    return (np.argsort(accuracy)[-1] + 1) / 100\n",
    "\n",
    "# 評価計算を出力\n",
    "def Evaluation(y_test, y_proba):\n",
    "    #cutoff = Best_TS_Cutoff( y_test, y_proba )\n",
    "    cutoff = Best_ETS_Cutoff( y_test, y_proba )\n",
    "    y_fcst = (y_proba[:,1] > cutoff).astype(np.int)\n",
    "    y_fcst = np.argmax(y_proba, axis=1)\n",
    "\n",
    "    print( \"AUC : {}\" . format( roc_auc_score(y_test, y_proba[:,1]) ) )\n",
    "    print( \"\" )\n",
    "    print( \"cutoff : {}\" . format(cutoff) )\n",
    "    print( classification_report(y_true=y_test, y_pred=y_fcst) )\n",
    "    matrix = confusion_matrix(y_true=y_test, y_pred=y_fcst)\n",
    "    print( \"Confusion Matrix\" )\n",
    "    print( matrix )\n",
    "    print( \"\" )\n",
    "    print( \"Threat Score : {}\" . format( matrix[1,1]/(matrix[0,1]+matrix[1,0]+matrix[1,1]) ) )\n",
    "    Pc = len(y_test[ y_test == 1 ]) / len(y_test)\n",
    "    Sf = Pc * ( matrix[1,1] + matrix[0,1] )\n",
    "    print( \"ETS : {}\" . format( (matrix[1,1]-Sf)/(matrix[0,1]+matrix[1,0]+matrix[1,1]-Sf) ) )\n",
    "    print( \"BI : {}\" . format( matrix[:,1].sum() / matrix[1,:].sum() ) )\n",
    "    return cutoff"
   ]
  },
  {
   "cell_type": "code",
   "execution_count": 11,
   "metadata": {},
   "outputs": [
    {
     "name": "stdout",
     "output_type": "stream",
     "text": [
      "AUC : 0.9479957091489143\n",
      "\n",
      "cutoff : 0.6\n",
      "             precision    recall  f1-score   support\n",
      "\n",
      "          0       0.99      0.97      0.98      7739\n",
      "          1       0.23      0.59      0.33       116\n",
      "\n",
      "avg / total       0.98      0.97      0.97      7855\n",
      "\n",
      "Confusion Matrix\n",
      "[[7516  223]\n",
      " [  48   68]]\n",
      "\n",
      "Threat Score : 0.20058997050147492\n",
      "ETS : 0.19032600265719418\n",
      "BI : 2.5086206896551726\n"
     ]
    }
   ],
   "source": [
    "rf = RandomForestClassifier(n_estimators=200, max_depth=10, min_samples_split=4, min_samples_leaf=2,\\\n",
    "                            class_weight='balanced', random_state=443)\n",
    "rf.fit(X_train, Y_train)\n",
    "y_proba = rf.predict_proba(X_dev)\n",
    "cutoff = Evaluation( Y_dev, y_proba )"
   ]
  },
  {
   "cell_type": "markdown",
   "metadata": {},
   "source": [
    "### 予測実験"
   ]
  },
  {
   "cell_type": "code",
   "execution_count": 12,
   "metadata": {},
   "outputs": [],
   "source": [
    "def Final_Accuracy(y_test, y_proba, cutoff):\n",
    "    y_fcst = (y_proba[:,1] > cutoff).astype(np.int)\n",
    "\n",
    "    print( \"AUC : {}\" . format( roc_auc_score(y_test, y_proba[:,1]) ) )\n",
    "    print( \"\" )\n",
    "    print( \"cutoff : {}\" . format(cutoff) )\n",
    "    print( classification_report(y_true=y_test, y_pred=y_fcst) )\n",
    "    matrix = confusion_matrix(y_true=y_test, y_pred=y_fcst)\n",
    "    print( \"Confusion Matrix\" )\n",
    "    print( matrix )\n",
    "    print( \"\" )\n",
    "    print( \"Threat Score : {}\" . format( matrix[1,1]/(matrix[0,1]+matrix[1,0]+matrix[1,1]) ) )\n",
    "    Pc = len(y_test[ y_test == 1 ]) / len(y_test)\n",
    "    Sf = Pc * ( matrix[1,1] + matrix[0,1] )\n",
    "    print( \"ETS : {}\" . format( (matrix[1,1]-Sf)/(matrix[0,1]+matrix[1,0]+matrix[1,1]-Sf) ) )\n",
    "    print( \"BI : {}\" . format( matrix[:,1].sum() / matrix[1,:].sum() ) )"
   ]
  },
  {
   "cell_type": "code",
   "execution_count": 13,
   "metadata": {
    "scrolled": true
   },
   "outputs": [
    {
     "name": "stdout",
     "output_type": "stream",
     "text": [
      "AUC : 0.9030545565131284\n",
      "\n",
      "cutoff : 0.6\n",
      "             precision    recall  f1-score   support\n",
      "\n",
      "          0       0.99      0.99      0.99      8038\n",
      "          1       0.15      0.20      0.17        99\n",
      "\n",
      "avg / total       0.98      0.98      0.98      8137\n",
      "\n",
      "Confusion Matrix\n",
      "[[7923  115]\n",
      " [  79   20]]\n",
      "\n",
      "Threat Score : 0.09345794392523364\n",
      "ETS : 0.08644621699780031\n",
      "BI : 1.3636363636363635\n"
     ]
    }
   ],
   "source": [
    "# 予測テスト\n",
    "y_proba = rf.predict_proba(X_test)\n",
    "Final_Accuracy( Y_test, y_proba, cutoff )"
   ]
  },
  {
   "cell_type": "markdown",
   "metadata": {},
   "source": [
    "### 重要度を見る"
   ]
  },
  {
   "cell_type": "code",
   "execution_count": 14,
   "metadata": {},
   "outputs": [],
   "source": [
    "rcParams['figure.figsize'] = 10,10\n",
    "def varImpPlot(clf, feature_names, topN = 10, verbose = True):\n",
    "    feature_names = np.array(feature_names)\n",
    "    feature_importance = clf.feature_importances_\n",
    "    feature_importance = 100.0 * (feature_importance / feature_importance.max())\n",
    "    sorted_idx = np.argsort(feature_importance)\n",
    "    \n",
    "    topN_feature = feature_importance[sorted_idx][len(feature_importance) - topN:]\n",
    "    topN_feature_name = feature_names[sorted_idx][len(feature_importance) - topN:]\n",
    "    pos = np.arange(topN) + .5\n",
    "    plt.barh(pos, topN_feature, align='center')\n",
    "    plt.yticks(pos, topN_feature_name)\n",
    "    plt.xlabel('Relative Importance')\n",
    "    plt.title('Variable Importance')\n",
    "    plt.show()\n",
    "    \n",
    "    rev_sorted_idx = np.argsort(feature_importance)[::-1]\n",
    "    if verbose:\n",
    "        for i, v in zip(feature_names[rev_sorted_idx], feature_importance[rev_sorted_idx]):\n",
    "            print(i, v)"
   ]
  },
  {
   "cell_type": "code",
   "execution_count": 15,
   "metadata": {},
   "outputs": [
    {
     "data": {
      "image/png": "[encoded data removed]",
      "text/plain": [
       "<matplotlib.figure.Figure at 0x1131a1978>"
      ]
     },
     "metadata": {},
     "output_type": "display_data"
    }
   ],
   "source": [
    "varImpPlot(rf, features, topN=50, verbose=False)"
   ]
  },
  {
   "cell_type": "code",
   "execution_count": 16,
   "metadata": {},
   "outputs": [
    {
     "name": "stdout",
     "output_type": "stream",
     "text": [
      "AUC : 0.9482630518956829\n",
      "\n",
      "cutoff : 0.58\n",
      "             precision    recall  f1-score   support\n",
      "\n",
      "          0       0.99      0.97      0.98      7739\n",
      "          1       0.24      0.55      0.33       116\n",
      "\n",
      "avg / total       0.98      0.97      0.97      7855\n",
      "\n",
      "Confusion Matrix\n",
      "[[7533  206]\n",
      " [  52   64]]\n",
      "\n",
      "Threat Score : 0.19875776397515527\n",
      "ETS : 0.1887117242262779\n",
      "BI : 2.3275862068965516\n"
     ]
    }
   ],
   "source": [
    "# 一定の重要度がなければ除外する場合に実行\n",
    "feature_importance = rf.feature_importances_\n",
    "feature_importance = 100.0 * (feature_importance / feature_importance.max())\n",
    "feature_cols_ar = np.array(features)\n",
    "selected_features = feature_cols_ar[feature_importance > 1]\n",
    "\n",
    "# 改めて学習用データをセット\n",
    "X = np.array( DATA[selected_features] )\n",
    "Y = np.array( DATA[target] )\n",
    "X_train, X_dev, Y_train, Y_dev = train_test_split(X, Y, test_size=0.3, random_state=443)\n",
    "\n",
    "X_test = np.array( TEST[selected_features] )\n",
    "Y_test = np.array( TEST[target] )\n",
    "\n",
    "# 再学習と評価\n",
    "rf.fit(X_train, Y_train)\n",
    "y_proba = rf.predict_proba(X_dev)\n",
    "cutoff = Evaluation( Y_dev, y_proba )"
   ]
  },
  {
   "cell_type": "code",
   "execution_count": 17,
   "metadata": {},
   "outputs": [
    {
     "name": "stdout",
     "output_type": "stream",
     "text": [
      "AUC : 0.8992827001037998\n",
      "\n",
      "cutoff : 0.58\n",
      "             precision    recall  f1-score   support\n",
      "\n",
      "          0       0.99      0.98      0.99      8038\n",
      "          1       0.13      0.18      0.15        99\n",
      "\n",
      "avg / total       0.98      0.97      0.98      8137\n",
      "\n",
      "Confusion Matrix\n",
      "[[7915  123]\n",
      " [  81   18]]\n",
      "\n",
      "Threat Score : 0.08108108108108109\n",
      "ETS : 0.07392486840673824\n",
      "BI : 1.4242424242424243\n"
     ]
    }
   ],
   "source": [
    "# 予測テスト\n",
    "y_proba = rf.predict_proba(X_test)\n",
    "Final_Accuracy( Y_test, y_proba, cutoff )"
   ]
  },
  {
   "cell_type": "markdown",
   "metadata": {},
   "source": [
    "### PCAで次元圧縮した特徴量を試す"
   ]
  },
  {
   "cell_type": "code",
   "execution_count": 106,
   "metadata": {},
   "outputs": [],
   "source": [
    "## 学習用データ\n",
    "DATA = pd.read_csv(\"train_data.csv\")\n",
    "\n",
    "# 使うデータを限定\n",
    "use_valiable = [\"DateTime\",\"VIS\",\"VIS_CAT\",\"FG\",\"PRCP_P24HR\",\\\n",
    "                \"RH_SFC\",\"TMP_SFC\",\"TD_SFC\",\"PRES_SFC\",\"LCDC_SFC\",\"MCDC_SFC\",\"HCDC_SFC\",\\\n",
    "                \"WSPD_SFC\",\"WDIR_SFC\",\"TimeRange\",\"MONTH\",\"APCP_SFC\",\\\n",
    "#                 \"D_PRES_SFC\",\"D_TMP_SFC\",\"D_TD_SFC\",\\\n",
    "                \"LL_VWS1\",\"LL_VWS2\",\"LL_STBL1\",\"LL_STBL2\",\"WARMER_RA\",\\\n",
    "                \"RH_1000\",\"VVEL_1000\",\"WSPD_1000\",\"RH_975\",\"VVEL_975\",\"WSPD_975\",\\\n",
    "                \"RH_950\",\"VVEL_950\",\"WSPD_950\",\"RH_850\",\"RH_700\",\"RH_500\",\"RH_300\"]\n",
    "DATA = DATA[use_valiable]\n",
    "\n",
    "# カテゴリー変数はダミー化\n",
    "cat_val = ['WDIR_SFC', 'TimeRange', 'MONTH']\n",
    "DATA = pd.get_dummies(data=DATA, columns=cat_val)\n",
    "\n",
    "# 雨が降った後の夜間に霧が出やすいことを表現できるかもしれない\n",
    "DATA[\"Time_12-14_RAp24hr\"] = DATA[\"PRCP_P24HR\"] * DATA[\"TimeRange_12-14\"]\n",
    "DATA[\"Time_15-17_RAp24hr\"] = DATA[\"PRCP_P24HR\"] * DATA[\"TimeRange_15-17\"]\n",
    "DATA[\"Time_18-20_RAp24hr\"] = DATA[\"PRCP_P24HR\"] * DATA[\"TimeRange_18-20\"]\n",
    "DATA[\"Time_21-23_RAp24hr\"] = DATA[\"PRCP_P24HR\"] * DATA[\"TimeRange_21-23\"]\n",
    "\n",
    "# 不均衡データ対応\n",
    "# VIS 5000m以上を減らし、VIS 5000m未満を増やす\n",
    "def Sampling_Flag(data):\n",
    "    flag = np.full( data.shape[0], 0 )\n",
    "    flag[ data > 0 ] = 1\n",
    "    return flag\n",
    "\n",
    "DATA[\"FLAG\"] = Sampling_Flag( DATA.VIS_CAT )\n",
    "\n",
    "target = 'FLAG'\n",
    "exclude = ['FLAG','DateTime']\n",
    "features = [val for val in DATA.columns if val not in exclude]\n",
    "\n",
    "y = np.array( DATA[target] )\n",
    "X = np.array( DATA[features] )\n",
    "\n",
    "# count = int( y[y==0].shape[0]/2 )\n",
    "# rus = RandomUnderSampler(ratio={0:count}, random_state=443)\n",
    "# X_rus, y_rus = rus.fit_sample(X,y)\n",
    "\n",
    "# count = y_rus[y_rus==0].shape[0]\n",
    "# sm = SMOTE(ratio={1:count}, random_state=443)\n",
    "# X_sm, y_sm = sm.fit_sample(X_rus,y_rus)\n",
    "\n",
    "count = y[y==0].shape[0]\n",
    "sm = SMOTE(ratio={1:count}, random_state=443)\n",
    "X_sm, y_sm = sm.fit_sample(X,y)\n",
    "\n",
    "DATA = pd.DataFrame( X_sm, columns=features )\n",
    "# DATA = pd.DataFrame( X, columns=features )\n",
    "DATA.FG = DATA.FG.astype(np.int64)\n",
    "DATA.VIS_CAT = DATA.VIS_CAT.astype(np.int64)"
   ]
  },
  {
   "cell_type": "code",
   "execution_count": 107,
   "metadata": {},
   "outputs": [],
   "source": [
    "## 予測テスト用データ\n",
    "TEST = pd.read_csv(\"test_data.csv\")\n",
    "TEST = TEST[use_valiable].drop(\"DateTime\", axis=1)\n",
    "TEST = pd.get_dummies(data=TEST, columns=cat_val)\n",
    "\n",
    "TEST[\"Time_12-14_RAp24hr\"] = TEST[\"PRCP_P24HR\"] * TEST[\"TimeRange_12-14\"]\n",
    "TEST[\"Time_15-17_RAp24hr\"] = TEST[\"PRCP_P24HR\"] * TEST[\"TimeRange_15-17\"]\n",
    "TEST[\"Time_18-20_RAp24hr\"] = TEST[\"PRCP_P24HR\"] * TEST[\"TimeRange_18-20\"]\n",
    "TEST[\"Time_21-23_RAp24hr\"] = TEST[\"PRCP_P24HR\"] * TEST[\"TimeRange_21-23\"]"
   ]
  },
  {
   "cell_type": "code",
   "execution_count": 108,
   "metadata": {},
   "outputs": [],
   "source": [
    "target = 'FG'\n",
    "exclude = ['VIS','VIS_CAT','FG','PRCP_P24HR']\n",
    "features = [val for val in DATA.columns if val not in exclude]\n",
    "\n",
    "## Scaling\n",
    "# 湿度と雲量は100で割る\n",
    "rh_val = [\"RH_SFC\", \"RH_1000\", \"RH_975\", \"RH_950\", \"RH_850\", \"RH_700\", \"RH_500\", \"RH_300\",\\\n",
    "          \"LCDC_SFC\", \"MCDC_SFC\", \"HCDC_SFC\"]\n",
    "DATA[rh_val] /= 100.0\n",
    "TEST[rh_val] /= 100.0\n",
    "\n",
    "# それ以外の連続量は正規化（0〜1）\n",
    "cont_val = [\"TMP_SFC\",\"TD_SFC\",\"PRES_SFC\",\"WSPD_SFC\",\"APCP_SFC\",\\\n",
    "#             \"D_PRES_SFC\",\"D_TMP_SFC\",\"D_TD_SFC\",\\\n",
    "            \"LL_VWS1\",\"LL_VWS2\",\"LL_STBL1\",\"LL_STBL2\",\"WARMER_RA\",\"VVEL_1000\",\"WSPD_1000\",\\\n",
    "            \"VVEL_975\",\"WSPD_975\",\"VVEL_950\",\"WSPD_950\"]\n",
    "scaler = MinMaxScaler(feature_range=(0, 1))\n",
    "DATA[cont_val] = scaler.fit_transform( DATA[cont_val] )\n",
    "TEST[cont_val] = scaler.transform( TEST[cont_val] )\n",
    "\n",
    "## 主成分分析\n",
    "pca = PCA(n_components=10)\n",
    "DATA_P = pca.fit_transform( DATA[features] )\n",
    "TEST_P = pca.transform( TEST[features] )\n",
    "DATA_INV = pca.inverse_transform( DATA_P )\n",
    "TEST_INV = pca.inverse_transform( TEST_P )\n",
    "\n",
    "X = DATA_INV\n",
    "Y = np.array( DATA[target] )\n",
    "X_train, X_dev, Y_train, Y_dev = train_test_split(X, Y, test_size=0.3, random_state=443)\n",
    "\n",
    "X_test = TEST_INV\n",
    "Y_test = np.array( TEST[target] )"
   ]
  },
  {
   "cell_type": "code",
   "execution_count": 78,
   "metadata": {},
   "outputs": [
    {
     "name": "stdout",
     "output_type": "stream",
     "text": [
      "Fitting 3 folds for each of 9 candidates, totalling 27 fits\n"
     ]
    },
    {
     "name": "stderr",
     "output_type": "stream",
     "text": [
      "[Parallel(n_jobs=-1)]: Done  27 out of  27 | elapsed:   58.4s finished\n"
     ]
    },
    {
     "data": {
      "text/plain": [
       "GridSearchCV(cv=3, error_score='raise',\n",
       "       estimator=RandomForestClassifier(bootstrap=True, class_weight='balanced',\n",
       "            criterion='gini', max_depth=None, max_features='auto',\n",
       "            max_leaf_nodes=None, min_impurity_decrease=0.0,\n",
       "            min_impurity_split=None, min_samples_leaf=1,\n",
       "            min_samples_split=2, min_weight_fraction_leaf=0.0,\n",
       "            n_estimators=10, n_jobs=1, oob_score=False, random_state=443,\n",
       "            verbose=0, warm_start=False),\n",
       "       fit_params=None, iid=True, n_jobs=-1,\n",
       "       param_grid={'n_estimators': [100, 150, 200], 'max_depth': [5, 10, None]},\n",
       "       pre_dispatch='2*n_jobs', refit=True, return_train_score='warn',\n",
       "       scoring='roc_auc', verbose=1)"
      ]
     },
     "execution_count": 78,
     "metadata": {},
     "output_type": "execute_result"
    }
   ],
   "source": [
    "## グリッドサーチでハイパーパラメータのチューニング\n",
    "rf = RandomForestClassifier(class_weight='balanced', random_state=443)\n",
    "params = {'n_estimators' :[100, 150, 200], 'max_depth':[5, 10, None]}\n",
    "gcv = GridSearchCV(rf, param_grid=params, n_jobs=-1, cv=3, scoring='roc_auc', verbose=1)\n",
    "gcv.fit(X_train, Y_train)"
   ]
  },
  {
   "cell_type": "code",
   "execution_count": 79,
   "metadata": {},
   "outputs": [
    {
     "name": "stdout",
     "output_type": "stream",
     "text": [
      "{'max_depth': 10, 'n_estimators': 150}\n",
      "0.9297718568033404\n"
     ]
    }
   ],
   "source": [
    "print( gcv.best_params_ )\n",
    "print( gcv.best_score_ )"
   ]
  },
  {
   "cell_type": "code",
   "execution_count": 125,
   "metadata": {},
   "outputs": [
    {
     "name": "stdout",
     "output_type": "stream",
     "text": [
      "AUC : 0.9628196375213887\n",
      "\n",
      "cutoff : 0.39\n",
      "             precision    recall  f1-score   support\n",
      "\n",
      "          0       0.96      0.99      0.98     12980\n",
      "          1       0.87      0.47      0.61       905\n",
      "\n",
      "avg / total       0.96      0.96      0.96     13885\n",
      "\n",
      "Confusion Matrix\n",
      "[[12914    66]\n",
      " [  481   424]]\n",
      "\n",
      "Threat Score : 0.43666323377960864\n",
      "ETS : 0.41750425745759706\n",
      "BI : 0.5414364640883977\n"
     ]
    }
   ],
   "source": [
    "# 学習と検証\n",
    "# rf = RandomForestClassifier(n_estimators=200, max_depth=10, min_samples_split=4, min_samples_leaf=2,\\\n",
    "#                             class_weight='balanced', random_state=443)\n",
    "# rf = RandomForestClassifier(**gcv.best_params_, class_weight='balanced', random_state=443)\n",
    "# rf = RandomForestClassifier(**gcv.best_params_, random_state=443)\n",
    "rf = RandomForestClassifier(n_estimators=200, max_depth=10, min_samples_split=4, min_samples_leaf=2,\\\n",
    "                            class_weight={1: 2}, random_state=443)\n",
    "rf.fit(X_train, Y_train)\n",
    "y_proba = rf.predict_proba(X_dev)\n",
    "cutoff = Evaluation( Y_dev, y_proba )"
   ]
  },
  {
   "cell_type": "code",
   "execution_count": 126,
   "metadata": {},
   "outputs": [
    {
     "name": "stdout",
     "output_type": "stream",
     "text": [
      "AUC : 0.8658166637763552\n",
      "\n",
      "cutoff : 0.39\n",
      "             precision    recall  f1-score   support\n",
      "\n",
      "          0       0.99      1.00      0.99      8038\n",
      "          1       0.27      0.14      0.19        99\n",
      "\n",
      "avg / total       0.98      0.98      0.98      8137\n",
      "\n",
      "Confusion Matrix\n",
      "[[8000   38]\n",
      " [  85   14]]\n",
      "\n",
      "Threat Score : 0.10218978102189781\n",
      "ETS : 0.09802446060411618\n",
      "BI : 0.5252525252525253\n"
     ]
    }
   ],
   "source": [
    "# 予測テスト\n",
    "y_proba = rf.predict_proba(X_test)\n",
    "Final_Accuracy( Y_test, y_proba, cutoff )"
   ]
  },
  {
   "cell_type": "code",
   "execution_count": null,
   "metadata": {},
   "outputs": [],
   "source": []
  }
 ],
 "metadata": {
  "kernelspec": {
   "display_name": "Python 3",
   "language": "python",
   "name": "python3"
  },
  "language_info": {
   "codemirror_mode": {
    "name": "ipython",
    "version": 3
   },
   "file_extension": ".py",
   "mimetype": "text/x-python",
   "name": "python",
   "nbconvert_exporter": "python",
   "pygments_lexer": "ipython3",
   "version": "3.6.4"
  }
 },
 "nbformat": 4,
 "nbformat_minor": 2
}
